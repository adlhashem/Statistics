{
 "cells": [
  {
   "cell_type": "markdown",
   "id": "9d41ee37-4943-4d88-bb27-89b2e6c8c38f",
   "metadata": {},
   "source": [
    "\n",
    "<style>\n",
    "  .highlight {\n",
    "    background-color: #e8f5e9;\n",
    "    padding: 15px;\n",
    "    border-radius: 10px;\n",
    "    border: 1px solid #a5d6a7;\n",
    "    color: #2e7d32;\n",
    "  }\n",
    "  .highlight h3 {\n",
    "    color: #388e3c;\n",
    "  }\n",
    "  .highlight p, .highlight li {\n",
    "    color: #1b5e20;\n",
    "  }\n",
    "</style>\n",
    "\n",
    "<div class=\"highlight\">\n",
    "\n",
    "### Standard Deviation\n",
    "\n",
    "**Standard deviation** is useful when you need to compare and describe different data values that are widely scattered within a single dataset. Because standard deviation measures how close each observation is to the mean, it can tell you how precise the measurements are. So, if you have a dataset forecasting air pollution for a certain city, a standard deviation of $0.89$ (i.e. a low standard deviation) shows you that the data is precise.\n",
    "\n",
    "The standard deviation $ \\sigma $ is calculated using the formula:\n",
    "\n",
    "$$ \\sigma = \\sqrt{\\frac{1}{N}\\sum_{i=1}^{N}(x_i - \\mu)^2} $$\n",
    "\n",
    "where:\n",
    "- $ N $ is the number of observations.\n",
    "- $ x_i $ is each individual observation.\n",
    "- $ \\mu $ is the mean of the observations.\n",
    "\n",
    "### Standard Error\n",
    "\n",
    "**Standard error** is useful if you want to test a hypothesis, as it allows you to gauge how accurate and precise your sample data is in relation to drawing conclusions about the actual overall population. For example, if you want to investigate the spending habits of everyone over 50 in New York City, using a sample of $500$ people, standard error can tell you how “powerful” or applicable your findings are.\n",
    "\n",
    "The standard error $ \\text{SE} $ is calculated using the formula:\n",
    "\n",
    "$$ \\text{SE} = \\frac{\\sigma}{\\sqrt{n}} $$\n",
    "\n",
    "where:\n",
    "- $ \\sigma $ is the standard deviation of the sample.\n",
    "- $ n $ is the sample size.\n",
    "\n",
    "</div>\n"
   ]
  },
  {
   "cell_type": "code",
   "execution_count": null,
   "id": "ad7b01e0-8c9c-4dd6-89b7-ad7570b91fe9",
   "metadata": {},
   "outputs": [],
   "source": []
  }
 ],
 "metadata": {
  "kernelspec": {
   "display_name": "Python 3 (ipykernel)",
   "language": "python",
   "name": "python3"
  },
  "language_info": {
   "codemirror_mode": {
    "name": "ipython",
    "version": 3
   },
   "file_extension": ".py",
   "mimetype": "text/x-python",
   "name": "python",
   "nbconvert_exporter": "python",
   "pygments_lexer": "ipython3",
   "version": "3.12.4"
  }
 },
 "nbformat": 4,
 "nbformat_minor": 5
}
