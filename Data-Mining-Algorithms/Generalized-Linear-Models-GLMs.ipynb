{
 "cells": [
  {
   "cell_type": "markdown",
   "id": "51a9234a-ea01-4ec8-aae1-04bafc59199d",
   "metadata": {},
   "source": [
    "<div style=\"background-color: #00008B; padding: 20px;\">\n",
    "    <h1 style=\"font-size: 100px; color: #ffffff;\">Generalized Linear Models (GLMs)</h1>\n",
    "</div>"
   ]
  },
  {
   "cell_type": "markdown",
   "id": "891511c7-ab21-4065-b9b9-727848b0267d",
   "metadata": {
    "jp-MarkdownHeadingCollapsed": true
   },
   "source": [
    "<div style=\"border: 2px solid purple; border-radius: 10px; padding: 15px; background-color: #f9f2ff;\">\n",
    "\n",
    "## Generalized Linear Models (GLMs)\n",
    "\n",
    "### 1. Linear Regression under Normality\n",
    "- **Model**: \n",
    "  $$\n",
    "  Y_i = \\beta_0 + \\beta_1 X_{i1} + \\beta_2 X_{i2} + \\cdots + \\beta_p X_{ip} + \\epsilon_i\n",
    "  $$\n",
    "- **Distribution**: Normal (Gaussian)\n",
    "- **Link Function**: Identity (i.e., the response variable $Y_i$ is directly modeled as a linear function of the predictors $X_i$)\n",
    "- **Use Case**: Predicting a continuous outcome variable.\n",
    "\n",
    "### 2. Logistic Regression\n",
    "- **Model**: \n",
    "  $$\n",
    "  \\log\\left(\\frac{p_i}{1 - p_i}\\right) = \\beta_0 + \\beta_1 X_{i1} + \\beta_2 X_{i2} + \\cdots + \\beta_p X_{ip}\n",
    "  $$\n",
    "- **Distribution**: Binomial\n",
    "- **Link Function**: Logit (i.e., the log-odds of the probability of the response variable)\n",
    "- **Use Case**: Predicting a binary outcome variable.\n",
    "\n",
    "### 3. Poisson Regression\n",
    "- **Model**: \n",
    "  $$\n",
    "  \\log(\\lambda_i) = \\beta_0 + \\beta_1 X_{i1} + \\beta_2 X_{i2} + \\cdots + \\beta_p X_{ip}\n",
    "  $$\n",
    "- **Distribution**: Poisson\n",
    "- **Link Function**: Log (i.e., the log of the expected count of events)\n",
    "- **Use Case**: Predicting count data or the number of occurrences of an event.\n",
    "\n",
    "### Key Concepts in GLMs\n",
    "\n",
    "1. **Link Function**: The link function connects the linear predictor (a linear combination of the parameters and predictor variables) to the mean of the response variable. Different link functions are used for different types of response variables.\n",
    "\n",
    "2. **Exponential Family**: GLMs assume that the response variable's distribution belongs to the exponential family (e.g., normal, binomial, Poisson, etc.).\n",
    "\n",
    "3. **Parameter Estimation**: Typically done using maximum likelihood estimation (MLE).\n",
    "\n",
    "### Applications\n",
    "\n",
    "- **Linear Regression**: Used in many fields, including economics, engineering, and social sciences, to model relationships between continuous variables.\n",
    "   \n",
    "- **Logistic Regression**: Widely used in medical research, marketing, and social sciences for binary classification problems such as disease presence/absence, customer churn, etc.\n",
    "   \n",
    "- **Poisson Regression**: Common in fields like epidemiology, insurance, and biology to model count data, such as the number of diseases, insurance claims, or occurrences of a species.\n",
    "\n",
    "### Assumptions\n",
    "\n",
    "- **Linear Regression**: Assumes a linear relationship between the predictors and the response, normally distributed errors, and homoscedasticity (constant variance of errors).\n",
    "- **Logistic Regression**: Assumes the log-odds of the outcome are a linear combination of the predictors.\n",
    "- **Poisson Regression**: Assumes the log of the mean of the response variable is a linear combination of the predictors and that the variance equals the mean.\n",
    "\n",
    "### Example Formulations\n",
    "\n",
    "- **Linear Regression**: \n",
    "  $$\n",
    "  Y = \\beta_0 + \\beta_1 X + \\epsilon\n",
    "  $$\n",
    "- **Logistic Regression**: \n",
    "  $$\n",
    "  \\log\\left(\\frac{p}{1-p}\\right) = \\beta_0 + \\beta_1 X\n",
    "  $$\n",
    "- **Poisson Regression**: \n",
    "  $$\n",
    "  \\log(\\lambda) = \\beta_0 + \\beta_1 X\n",
    "  $$\n",
    "\n",
    "Understanding these models and their applications helps in choosing the right model for the right type of data and research question."
   ]
  },
  {
   "cell_type": "code",
   "execution_count": null,
   "id": "94ac8fc0-4bf7-4bc8-83c5-6ee154b1df8f",
   "metadata": {},
   "outputs": [],
   "source": []
  }
 ],
 "metadata": {
  "kernelspec": {
   "display_name": "Python 3 (ipykernel)",
   "language": "python",
   "name": "python3"
  },
  "language_info": {
   "codemirror_mode": {
    "name": "ipython",
    "version": 3
   },
   "file_extension": ".py",
   "mimetype": "text/x-python",
   "name": "python",
   "nbconvert_exporter": "python",
   "pygments_lexer": "ipython3",
   "version": "3.12.4"
  }
 },
 "nbformat": 4,
 "nbformat_minor": 5
}
